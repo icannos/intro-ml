{
 "cells": [
  {
   "cell_type": "markdown",
   "metadata": {},
   "source": [
    "# Introduction to machine learning\n",
    "\n",
    "*Maxime Sangnier*\n",
    "\n",
    "Fall, 2019\n",
    "\n",
    "## Practical session 1: discriminant analysis, logistic regression and boosting"
   ]
  },
  {
   "cell_type": "markdown",
   "metadata": {},
   "source": [
    "# Table of contents\n",
    "1. [Discriminant analysis](#part1)\n",
    "    - [Linear discriminant analysis](#part1sec1)\n",
    "    - [Quadratic discriminant analysis](#part1sec2)\n",
    "    - [Fisher discriminant analysis](#part1sec3)\n",
    "1. [Logistic regression](#part2)\n",
    "1. [Adaboost](#part3)\n"
   ]
  },
  {
   "cell_type": "code",
   "execution_count": 1,
   "metadata": {},
   "outputs": [],
   "source": [
    "import numpy as np\n",
    "import matplotlib.pyplot as plt"
   ]
  },
  {
   "cell_type": "markdown",
   "metadata": {},
   "source": [
    "# Discriminant analysis <a id=\"part1\"></a>\n",
    "## Linear discriminant analysis <a id=\"part1sec1\"></a>\n",
    ">Write a function that generates a multivariate Gaussian sample of mean $\\mu$, covariance defined by $(\\sigma_1, \\sigma_2, \\theta)$ and size $n$.\n",
    "The corresponding numpy array should be of size $(n, 2)$.\n",
    "\n",
    "\n",
    ">Compute the mean and the empirical covariance of the sample using Numpy routines."
   ]
  },
  {
   "cell_type": "code",
   "execution_count": 2,
   "metadata": {},
   "outputs": [],
   "source": [
    "# Avant avoir lu l'énoncé\n",
    "def mk_class(n_points, mu, cov_mat):\n",
    "    return np.random.multivariate_normal(mu, cov_mat, n_points)\n",
    "def mk_covmat(d):\n",
    "    A = np.random.uniform(-5, 5, (d, d))\n",
    "    return np.dot(A, A.transpose())\n",
    "\n",
    "# By hand\n",
    "def compute_cov(c1, c2):\n",
    "    mu1 = np.mean(c1, axis=0)\n",
    "    mu2 = np.mean(c2, axis=0)\n",
    "\n",
    "    delta1 = lambda c: mu1 - c\n",
    "    delta2 = lambda c: mu2 - c\n",
    "\n",
    "    cov = sum(np.outer(delta1(c), delta2(c).transpose()) for c in c1) / c1.shape[0] + sum(\n",
    "        np.outer(delta2(c), delta2(c).transpose()) for c in c2) / c2.shape[0]\n",
    "    \n",
    "    return mu1, mu2, cov\n",
    "\n",
    "# Using numpy routine\n",
    "\n",
    "def compute_cov_np(c1, c2):\n",
    "    mu1 = np.mean(c1, axis=0)\n",
    "    mu2 = np.mean(c2, axis=0)\n",
    "    \n",
    "    cov_1 = np.cov(c1)* (c1.shape[0]) / (c1.shape[0]+c2.shape[0])\n",
    "    cov_2 = np.cov(c2)* (c2.shape[0]) / (c1.shape[0]+c2.shape[0])\n",
    "    \n",
    "    cov = cov_1 + cov_2\n",
    "    \n",
    "    return mu1, mu2, cov\n",
    "                                   \n",
    "    "
   ]
  },
  {
   "cell_type": "markdown",
   "metadata": {},
   "source": [
    ">Generate two multivariate Gaussian samples of size $n_1 = n_2 = 50$ with different means and equal covariance matrices.\n",
    "Plot both samples with different markers."
   ]
  },
  {
   "cell_type": "code",
   "execution_count": 3,
   "metadata": {},
   "outputs": [
    {
     "data": {
      "text/plain": [
       "<matplotlib.collections.PathCollection at 0x7f2b19cfdc50>"
      ]
     },
     "execution_count": 3,
     "metadata": {},
     "output_type": "execute_result"
    },
    {
     "data": {
      "image/png": "[encoded data removed]",
      "text/plain": [
       "<Figure size 432x288 with 1 Axes>"
      ]
     },
     "metadata": {
      "needs_background": "light"
     },
     "output_type": "display_data"
    }
   ],
   "source": [
    "S = mk_covmat(2)\n",
    "X_1 = mk_class(100, [10,10], S)\n",
    "X_2 = mk_class(100, [-10,-10], S)\n",
    "\n",
    "\n",
    "plt.scatter(X_1[:, 0], X_1[:, 1], marker=\"+\", c=\"red\" )\n",
    "plt.scatter(X_2[:, 0], X_2[:, 1], marker=\"o\", c=\"blue\")"
   ]
  },
  {
   "cell_type": "markdown",
   "metadata": {},
   "source": [
    ">Based on the following code, implement a linear discriminant classifier, taking as parameters an $n \\times 2$ Numpy array as data and a size-$n$ array of labels."
   ]
  },
  {
   "cell_type": "code",
   "execution_count": 4,
   "metadata": {},
   "outputs": [],
   "source": [
    "from sklearn.base import BaseEstimator\n",
    "from sklearn.discriminant_analysis import LinearClassifierMixin\n",
    "\n",
    "class LDA(BaseEstimator, LinearClassifierMixin):\n",
    "    \"\"\"\n",
    "        LDA classifier for two classes.\n",
    "    \"\"\"\n",
    "    def __init__(self, prior=None):\n",
    "        \"\"\"\n",
    "            prior: wether to use prior in the intercept. Default is false.\n",
    "        \"\"\"\n",
    "        self.prior = prior\n",
    "        \n",
    "    def fit(self, X, y):\n",
    "        c1 = np.array([x for i,x in enumerate(X) if y[i] == 1])\n",
    "        c2 = np.array([x for i,x in enumerate(X) if y[i] == 0])\n",
    "        \n",
    "        self.linear_sep, self.mu1, self.mu2, self.cov, self.h, self.b = compute_linear_sep(c1,c2)\n",
    "        \n",
    "    def decision_function(self, X):\n",
    "        return np.array([self.linear_sep(x) for x in X])\n",
    "\n",
    "    def predict(self, X):\n",
    "        return self.decision_function(X) >= 0\n",
    "    \n",
    "def compute_linear_sep(c1, c2):\n",
    "    mu1, mu2, cov = compute_cov(c1, c2)\n",
    "\n",
    "    inv_conv = np.linalg.inv(cov)\n",
    "\n",
    "    h = np.dot((mu1 - mu2).transpose(), inv_conv)\n",
    "\n",
    "    P1 = - np.dot(np.dot(mu1.transpose(), inv_conv), mu1)\n",
    "    P2 = np.dot(np.dot(mu2.transpose(), inv_conv), mu2)\n",
    "    b = (1 / 2) * (P1 + P2) + 0\n",
    "\n",
    "    def linear_sep(x):\n",
    "        return np.dot(h, x) + b\n",
    "\n",
    "    return linear_sep, mu1, mu2, cov, h, b"
   ]
  },
  {
   "cell_type": "code",
   "execution_count": 5,
   "metadata": {},
   "outputs": [],
   "source": [
    "# Answer\n",
    "\n",
    "X = np.concatenate([X_1, X_2])\n",
    "y = np.array([1 for i in range(100)]+[0 for i in range(100)])\n",
    "\n",
    "lda = LDA()\n",
    "lda.fit(X, y)\n",
    "\n",
    "preds = lda.predict(X)\n",
    "\n",
    "predX_1 = np.array([x for i,x in enumerate(X) if preds[i]])\n",
    "predX_2 = np.array([x for i,x in enumerate(X) if not preds[i]])"
   ]
  },
  {
   "cell_type": "code",
   "execution_count": 6,
   "metadata": {},
   "outputs": [],
   "source": [
    "def plot_line(h, b):\n",
    "    T = np.linspace(-10,10,100)\n",
    "    y =  np.array([t*h + b for t in T])\n",
    "    \n",
    "    return y"
   ]
  },
  {
   "cell_type": "markdown",
   "metadata": {},
   "source": [
    ">Create the Numpy arrays `X` and `y` based on the samples generated previously and fit a linear discriminant classifier.\n",
    "Plot the data along with the classifier frontiere. "
   ]
  },
  {
   "cell_type": "code",
   "execution_count": 15,
   "metadata": {},
   "outputs": [
    {
     "data": {
      "text/plain": [
       "<matplotlib.legend.Legend at 0x7f2af9cbdb90>"
      ]
     },
     "execution_count": 15,
     "metadata": {},
     "output_type": "execute_result"
    },
    {
     "data": {
      "image/png": "[encoded data removed]",
      "text/plain": [
       "<Figure size 432x288 with 1 Axes>"
      ]
     },
     "metadata": {
      "needs_background": "light"
     },
     "output_type": "display_data"
    }
   ],
   "source": [
    "# Answer\n",
    "plt.scatter(predX_1[:, 0], predX_1[:, 1], marker=\"+\", c=\"red\" )\n",
    "plt.scatter(predX_2[:, 0], predX_2[:, 1], marker=\"o\", c=\"blue\")\n",
    "\n",
    "y = plot_line(lda.h, lda.b)\n",
    "\n",
    "plt.plot(y[:,0], y[:, 1], c=\"orange\", label=\"Projection\")\n",
    "\n",
    "y = plot_line(np.array([lda.h[1], -lda.h[0]]), lda.b)\n",
    "\n",
    "plt.plot(y[:,0], y[:, 1], c=\"green\", label=\"Frontière\")\n",
    "\n",
    "plt.legend()\n"
   ]
  },
  {
   "cell_type": "markdown",
   "metadata": {},
   "source": [
    ">Compare the result of [scikit-learn LDA](http://scikit-learn.org/stable/modules/generated/sklearn.discriminant_analysis.LinearDiscriminantAnalysis.html#sklearn.discriminant_analysis.LinearDiscriminantAnalysis) (decision function and frontiere)."
   ]
  },
  {
   "cell_type": "code",
   "execution_count": 8,
   "metadata": {},
   "outputs": [],
   "source": [
    "# Answer\n",
    "# Flemme"
   ]
  },
  {
   "cell_type": "markdown",
   "metadata": {},
   "source": [
    "## Quadratic discriminant analysis <a id=\"part1sec2\"></a>\n",
    ">Analyze the behavior of LDA and [QDA](http://scikit-learn.org/stable/modules/generated/sklearn.discriminant_analysis.QuadraticDiscriminantAnalysis.html#sklearn.discriminant_analysis.QuadraticDiscriminantAnalysis) when it is faced to anisotropic Gaussian samples (in particular, check if the frontiere is the bisector of the line segment for which the extremities are both class centers), and then to Gaussian samples with different covariance matrices."
   ]
  },
  {
   "cell_type": "code",
   "execution_count": 9,
   "metadata": {},
   "outputs": [],
   "source": [
    "# Answer"
   ]
  },
  {
   "cell_type": "markdown",
   "metadata": {},
   "source": [
    "## Fisher discriminant analysis <a id=\"part1sec3\"></a>\n",
    ">Implement the Fisher discriminant analysis based on the following code.\n",
    "In practice, what is the difference between LDA and FisherDA?"
   ]
  },
  {
   "cell_type": "code",
   "execution_count": 10,
   "metadata": {},
   "outputs": [],
   "source": [
    "class FisherDA(BaseEstimator, LinearClassifierMixin):\n",
    "    \"\"\"\n",
    "        Fisher discriminant analysis for two classes.\n",
    "    \"\"\"\n",
    "    def fit(self, X, y):\n",
    "        pass\n",
    "\n",
    "    def decision_function(self, X):\n",
    "        pass\n",
    "\n",
    "    def predict(self, X):\n",
    "        pass"
   ]
  },
  {
   "cell_type": "code",
   "execution_count": 11,
   "metadata": {},
   "outputs": [],
   "source": [
    "# Answer"
   ]
  },
  {
   "cell_type": "markdown",
   "metadata": {},
   "source": [
    "# Logistic regression <a id=\"part2\"></a>\n",
    ">We consider that $X|Y=1 \\sim \\mathcal N(0, I)$ and $X|Y=-1 \\sim 0.5 \\mathcal N\\left(\\begin{pmatrix} 5 \\\\ 3 \\end{pmatrix}, I\\right) + 0.5 \\mathcal N\\left(\\begin{pmatrix} 8 \\\\ 9 \\end{pmatrix}, I\\right)$ (non-Gaussian class).\n",
    "Compare LDA and [logistic regression](http://scikit-learn.org/stable/modules/generated/sklearn.linear_model.LogisticRegression.html)."
   ]
  },
  {
   "cell_type": "code",
   "execution_count": 12,
   "metadata": {},
   "outputs": [],
   "source": [
    "# Answer"
   ]
  },
  {
   "cell_type": "markdown",
   "metadata": {},
   "source": [
    ">What about with this dataset (class $-1$ is Gaussian but with an outlier)?"
   ]
  },
  {
   "cell_type": "code",
   "execution_count": 13,
   "metadata": {},
   "outputs": [
    {
     "ename": "NameError",
     "evalue": "name 'gaussian_sample' is not defined",
     "output_type": "error",
     "traceback": [
      "\u001b[0;31m------------------------------------------------------------------------\u001b[0m",
      "\u001b[0;31mNameError\u001b[0m                              Traceback (most recent call last)",
      "\u001b[0;32m<ipython-input-13-b4221e1d48f6>\u001b[0m in \u001b[0;36m<module>\u001b[0;34m\u001b[0m\n\u001b[1;32m      1\u001b[0m \u001b[0;31m# Dataset\u001b[0m\u001b[0;34m\u001b[0m\u001b[0;34m\u001b[0m\u001b[0;34m\u001b[0m\u001b[0m\n\u001b[0;32m----> 2\u001b[0;31m \u001b[0mX1\u001b[0m \u001b[0;34m=\u001b[0m \u001b[0mgaussian_sample\u001b[0m\u001b[0;34m(\u001b[0m\u001b[0mmu\u001b[0m\u001b[0;34m=\u001b[0m\u001b[0;34m[\u001b[0m\u001b[0;36m0\u001b[0m\u001b[0;34m,\u001b[0m \u001b[0;36m0\u001b[0m\u001b[0;34m]\u001b[0m\u001b[0;34m)\u001b[0m\u001b[0;34m\u001b[0m\u001b[0;34m\u001b[0m\u001b[0m\n\u001b[0m\u001b[1;32m      3\u001b[0m \u001b[0mX2\u001b[0m \u001b[0;34m=\u001b[0m \u001b[0mgaussian_sample\u001b[0m\u001b[0;34m(\u001b[0m\u001b[0mmu\u001b[0m\u001b[0;34m=\u001b[0m\u001b[0;34m[\u001b[0m\u001b[0;36m5\u001b[0m\u001b[0;34m,\u001b[0m \u001b[0;36m3\u001b[0m\u001b[0;34m]\u001b[0m\u001b[0;34m,\u001b[0m \u001b[0mn\u001b[0m\u001b[0;34m=\u001b[0m\u001b[0;36m49\u001b[0m\u001b[0;34m)\u001b[0m\u001b[0;34m\u001b[0m\u001b[0;34m\u001b[0m\u001b[0m\n\u001b[1;32m      4\u001b[0m \u001b[0mX3\u001b[0m \u001b[0;34m=\u001b[0m \u001b[0mgaussian_sample\u001b[0m\u001b[0;34m(\u001b[0m\u001b[0mmu\u001b[0m\u001b[0;34m=\u001b[0m\u001b[0;34m[\u001b[0m\u001b[0;36m20\u001b[0m\u001b[0;34m,\u001b[0m \u001b[0;36m20\u001b[0m\u001b[0;34m]\u001b[0m\u001b[0;34m,\u001b[0m \u001b[0mn\u001b[0m\u001b[0;34m=\u001b[0m\u001b[0;36m1\u001b[0m\u001b[0;34m)\u001b[0m\u001b[0;34m.\u001b[0m\u001b[0mreshape\u001b[0m\u001b[0;34m(\u001b[0m\u001b[0;36m1\u001b[0m\u001b[0;34m,\u001b[0m \u001b[0;34m-\u001b[0m\u001b[0;36m1\u001b[0m\u001b[0;34m)\u001b[0m\u001b[0;34m\u001b[0m\u001b[0;34m\u001b[0m\u001b[0m\n\u001b[1;32m      5\u001b[0m \u001b[0;34m\u001b[0m\u001b[0m\n",
      "\u001b[0;31mNameError\u001b[0m: name 'gaussian_sample' is not defined"
     ]
    }
   ],
   "source": [
    "# Dataset\n",
    "X1 = gaussian_sample(mu=[0, 0])\n",
    "X2 = gaussian_sample(mu=[5, 3], n=49)\n",
    "X3 = gaussian_sample(mu=[20, 20], n=1).reshape(1, -1)\n",
    "\n",
    "X = np.r_[X1, X2, X3]\n",
    "Y = np.r_[np.ones(X1.shape[0]), -np.ones(X2.shape[0]), -np.ones(X3.shape[0])]"
   ]
  },
  {
   "cell_type": "code",
   "execution_count": null,
   "metadata": {},
   "outputs": [],
   "source": [
    "# Answer"
   ]
  },
  {
   "cell_type": "markdown",
   "metadata": {},
   "source": [
    "# Adaboost <a id=\"part3\"></a>\n",
    ">We consider the dataset defined below."
   ]
  },
  {
   "cell_type": "code",
   "execution_count": null,
   "metadata": {},
   "outputs": [],
   "source": [
    "# Dataset\n",
    "X1 = gaussian_sample(mu=[0, 0], sigma1=10, theta=np.pi/6)\n",
    "X2 = gaussian_sample(mu=[5, 3], sigma1=3, sigma2=10, theta=np.pi/6, n=50)\n",
    "X3 = gaussian_sample(mu=[-5, -2], sigma1=3, sigma2=10, theta=np.pi/10, n=50)\n",
    "\n",
    "X = np.r_[X1, X2, X3]\n",
    "Y = np.r_[np.ones(X1.shape[0]), -np.ones(X2.shape[0]), -np.ones(X3.shape[0])]"
   ]
  },
  {
   "cell_type": "markdown",
   "metadata": {},
   "source": [
    ">Fit an [Adaboost](http://scikit-learn.org/stable/modules/generated/sklearn.ensemble.AdaBoostClassifier.html) classifier with $100$ weak learners and the algorithm SAMME.\n",
    "Map the classifier regions on a figure."
   ]
  },
  {
   "cell_type": "code",
   "execution_count": null,
   "metadata": {},
   "outputs": [],
   "source": [
    "from matplotlib import cm\n",
    "\n",
    "def map_regions(clf, data=None, num=50):\n",
    "    \"\"\"\n",
    "        Map the regions f(x)=1…K of the classifier clf within the same range as the one\n",
    "        of the data.\n",
    "        Input:\n",
    "            clf: classifier with a method predict\n",
    "            data: input data (X)\n",
    "            num: discretization parameter\n",
    "    \"\"\"\n",
    "    xmin, ymin = data.min(axis=0)\n",
    "    xmax, ymax = data.max(axis=0)\n",
    "    x, y = np.meshgrid(np.linspace(xmin, xmax, num), np.linspace(ymin, ymax))\n",
    "    z = clf.predict(np.c_[x.ravel(), y.ravel()]).reshape(x.shape)\n",
    "    zmin, zmax = z.min(), z.max()\n",
    "    plt.imshow(z, origin='lower', interpolation=\"nearest\",\n",
    "               extent=[xmin, xmax, ymin, ymax], cmap=cm.coolwarm,\n",
    "              alpha=0.3)"
   ]
  },
  {
   "cell_type": "code",
   "execution_count": null,
   "metadata": {},
   "outputs": [],
   "source": [
    "# Answer"
   ]
  },
  {
   "cell_type": "markdown",
   "metadata": {},
   "source": [
    ">Plot on a new figure the estimator errors (attribute `estimator\\_errors\\_ `).\n",
    "What do you observe?"
   ]
  },
  {
   "cell_type": "code",
   "execution_count": null,
   "metadata": {},
   "outputs": [],
   "source": [
    "# Answer"
   ]
  },
  {
   "cell_type": "markdown",
   "metadata": {},
   "source": [
    ">Load the [dataset digits](http://scikit-learn.org/stable/modules/generated/sklearn.datasets.load_digits.html#sklearn.datasets.load_digits).\n",
    "How many observations, covariates and classes has it?\n",
    "[Split](http://scikit-learn.org/stable/modules/generated/sklearn.model_selection.train_test_split.html) the dataset into two equally sized subsets (one for training, the other for testin, i.e. estimating the true error)."
   ]
  },
  {
   "cell_type": "code",
   "execution_count": null,
   "metadata": {},
   "outputs": [],
   "source": [
    "# Answer"
   ]
  },
  {
   "cell_type": "markdown",
   "metadata": {},
   "source": [
    ">Plot the train and test errors of both algorithms SAMME and SAMME.R with respect to the number of iterations (from 1 to 200) for the dataset digits.\n",
    "For this purpose, use [`DecisionTreeClassifier(max_depth=5)`](http://scikit-learn.org/stable/modules/generated/sklearn.tree.DecisionTreeClassifier.html) as base learner."
   ]
  },
  {
   "cell_type": "code",
   "execution_count": null,
   "metadata": {},
   "outputs": [],
   "source": [
    "# Answer"
   ]
  }
 ],
 "metadata": {
  "kernelspec": {
   "display_name": "Python 3",
   "language": "python",
   "name": "python3"
  },
  "language_info": {
   "codemirror_mode": {
    "name": "ipython",
    "version": 3
   },
   "file_extension": ".py",
   "mimetype": "text/x-python",
   "name": "python",
   "nbconvert_exporter": "python",
   "pygments_lexer": "ipython3",
   "version": "3.7.4"
  }
 },
 "nbformat": 4,
 "nbformat_minor": 2
}
